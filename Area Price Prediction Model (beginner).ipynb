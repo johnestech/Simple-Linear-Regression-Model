{
 "cells": [
  {
   "cell_type": "markdown",
   "id": "6ec1ae6a",
   "metadata": {},
   "source": [
    "## Beginner Machine Learning (ML) Project to understand ML Linear Regression Working"
   ]
  },
  {
   "cell_type": "code",
   "execution_count": 1,
   "id": "3516cb1d",
   "metadata": {},
   "outputs": [],
   "source": [
    "#importing important libraries and modules\n",
    "\n",
    "import numpy as np\n",
    "import pandas as pd\n",
    "import matplotlib.pyplot as plt\n",
    "from sklearn.linear_model import LinearRegression"
   ]
  },
  {
   "cell_type": "code",
   "execution_count": 2,
   "id": "48a3bbe6",
   "metadata": {},
   "outputs": [],
   "source": [
    "# reading the dataset from a csv file\n",
    "df = pd.read_csv('Price Area DataSet.csv')"
   ]
  },
  {
   "cell_type": "code",
   "execution_count": 3,
   "id": "9ae67782",
   "metadata": {},
   "outputs": [
    {
     "data": {
      "text/html": [
       "<div>\n",
       "<style scoped>\n",
       "    .dataframe tbody tr th:only-of-type {\n",
       "        vertical-align: middle;\n",
       "    }\n",
       "\n",
       "    .dataframe tbody tr th {\n",
       "        vertical-align: top;\n",
       "    }\n",
       "\n",
       "    .dataframe thead th {\n",
       "        text-align: right;\n",
       "    }\n",
       "</style>\n",
       "<table border=\"1\" class=\"dataframe\">\n",
       "  <thead>\n",
       "    <tr style=\"text-align: right;\">\n",
       "      <th></th>\n",
       "      <th>area (sq. meters)</th>\n",
       "      <th>price (USD)</th>\n",
       "    </tr>\n",
       "  </thead>\n",
       "  <tbody>\n",
       "    <tr>\n",
       "      <th>0</th>\n",
       "      <td>100</td>\n",
       "      <td>5000</td>\n",
       "    </tr>\n",
       "    <tr>\n",
       "      <th>1</th>\n",
       "      <td>101</td>\n",
       "      <td>5050</td>\n",
       "    </tr>\n",
       "    <tr>\n",
       "      <th>2</th>\n",
       "      <td>102</td>\n",
       "      <td>5100</td>\n",
       "    </tr>\n",
       "    <tr>\n",
       "      <th>3</th>\n",
       "      <td>103</td>\n",
       "      <td>5150</td>\n",
       "    </tr>\n",
       "    <tr>\n",
       "      <th>4</th>\n",
       "      <td>104</td>\n",
       "      <td>5200</td>\n",
       "    </tr>\n",
       "  </tbody>\n",
       "</table>\n",
       "</div>"
      ],
      "text/plain": [
       "   area (sq. meters)   price (USD)\n",
       "0                100          5000\n",
       "1                101          5050\n",
       "2                102          5100\n",
       "3                103          5150\n",
       "4                104          5200"
      ]
     },
     "execution_count": 3,
     "metadata": {},
     "output_type": "execute_result"
    }
   ],
   "source": [
    "df.head() # checking the head of the data (First 5 records)"
   ]
  },
  {
   "cell_type": "code",
   "execution_count": 4,
   "id": "15ebbcb1",
   "metadata": {},
   "outputs": [
    {
     "data": {
      "text/html": [
       "<div>\n",
       "<style scoped>\n",
       "    .dataframe tbody tr th:only-of-type {\n",
       "        vertical-align: middle;\n",
       "    }\n",
       "\n",
       "    .dataframe tbody tr th {\n",
       "        vertical-align: top;\n",
       "    }\n",
       "\n",
       "    .dataframe thead th {\n",
       "        text-align: right;\n",
       "    }\n",
       "</style>\n",
       "<table border=\"1\" class=\"dataframe\">\n",
       "  <thead>\n",
       "    <tr style=\"text-align: right;\">\n",
       "      <th></th>\n",
       "      <th>area (sq. meters)</th>\n",
       "      <th>price (USD)</th>\n",
       "    </tr>\n",
       "  </thead>\n",
       "  <tbody>\n",
       "    <tr>\n",
       "      <th>46</th>\n",
       "      <td>146</td>\n",
       "      <td>7300</td>\n",
       "    </tr>\n",
       "    <tr>\n",
       "      <th>47</th>\n",
       "      <td>147</td>\n",
       "      <td>7350</td>\n",
       "    </tr>\n",
       "    <tr>\n",
       "      <th>48</th>\n",
       "      <td>148</td>\n",
       "      <td>7400</td>\n",
       "    </tr>\n",
       "    <tr>\n",
       "      <th>49</th>\n",
       "      <td>149</td>\n",
       "      <td>7450</td>\n",
       "    </tr>\n",
       "    <tr>\n",
       "      <th>50</th>\n",
       "      <td>150</td>\n",
       "      <td>7500</td>\n",
       "    </tr>\n",
       "  </tbody>\n",
       "</table>\n",
       "</div>"
      ],
      "text/plain": [
       "    area (sq. meters)   price (USD)\n",
       "46                146          7300\n",
       "47                147          7350\n",
       "48                148          7400\n",
       "49                149          7450\n",
       "50                150          7500"
      ]
     },
     "execution_count": 4,
     "metadata": {},
     "output_type": "execute_result"
    }
   ],
   "source": [
    "df.tail() # checking the last 5 records"
   ]
  },
  {
   "cell_type": "code",
   "execution_count": 5,
   "id": "6135ad60",
   "metadata": {},
   "outputs": [
    {
     "name": "stdout",
     "output_type": "stream",
     "text": [
      "<class 'pandas.core.frame.DataFrame'>\n",
      "RangeIndex: 51 entries, 0 to 50\n",
      "Data columns (total 2 columns):\n",
      " #   Column             Non-Null Count  Dtype\n",
      "---  ------             --------------  -----\n",
      " 0   area (sq. meters)  51 non-null     int64\n",
      " 1    price (USD)       51 non-null     int64\n",
      "dtypes: int64(2)\n",
      "memory usage: 944.0 bytes\n"
     ]
    }
   ],
   "source": [
    "# we have 51 records in our dataset, lets check more info on the data\n",
    "df.info()"
   ]
  },
  {
   "cell_type": "markdown",
   "id": "7e18a1a5",
   "metadata": {},
   "source": [
    "### Visualizing the Data"
   ]
  },
  {
   "cell_type": "code",
   "execution_count": 6,
   "id": "1407b20d",
   "metadata": {},
   "outputs": [],
   "source": [
    "# to visualize the plots in notebook\n",
    "%matplotlib inline"
   ]
  },
  {
   "cell_type": "code",
   "execution_count": 7,
   "id": "df75247c",
   "metadata": {},
   "outputs": [
    {
     "data": {
      "text/plain": [
       "Index(['area (sq. meters)', ' price (USD)'], dtype='object')"
      ]
     },
     "execution_count": 7,
     "metadata": {},
     "output_type": "execute_result"
    }
   ],
   "source": [
    "df.columns # to see the columns"
   ]
  },
  {
   "cell_type": "code",
   "execution_count": 8,
   "id": "889d80da",
   "metadata": {},
   "outputs": [
    {
     "data": {
      "text/plain": [
       "Text(0.5, 1.0, 'Scatter Plot of Area Againt Price')"
      ]
     },
     "execution_count": 8,
     "metadata": {},
     "output_type": "execute_result"
    },
    {
     "data": {
      "image/png": "[encoded data removed]",
      "text/plain": [
       "<Figure size 432x288 with 1 Axes>"
      ]
     },
     "metadata": {
      "needs_background": "light"
     },
     "output_type": "display_data"
    }
   ],
   "source": [
    "# Visualizing using scatter plots\n",
    "plt.scatter(df['area (sq. meters)'],df[' price (USD)'], marker='+', color='g') # marker to change the pointer and 'g' to give give it green color \n",
    "plt.xlabel('Area in Sq. Meters')\n",
    "plt.ylabel('Price in USD')\n",
    "plt.title('Scatter Plot of Area Againt Price')"
   ]
  },
  {
   "cell_type": "code",
   "execution_count": 9,
   "id": "5392e1a6",
   "metadata": {},
   "outputs": [],
   "source": [
    "# The visualization above may not be neccesary. but with the plot, it shows our model will likely be more accurate\n",
    "# Assigning x and y\n",
    "X = df[['area (sq. meters)']] # x has to be 2 dimension, hence we use [[]]\n",
    "y = df[' price (USD)']"
   ]
  },
  {
   "cell_type": "code",
   "execution_count": 10,
   "id": "9bcccfdf",
   "metadata": {},
   "outputs": [],
   "source": [
    "# importing test/train split\n",
    "from sklearn.model_selection import train_test_split\n",
    "X_train, X_test, y_train, y_test = train_test_split(X, y, train_size=0.7, random_state=20)\n",
    "# using 'random_state' makes sure we always get the same sample all the time"
   ]
  },
  {
   "cell_type": "markdown",
   "id": "8738647a",
   "metadata": {},
   "source": [
    "### Checking the X and y Train and Test data"
   ]
  },
  {
   "cell_type": "code",
   "execution_count": 11,
   "id": "ceeb73d2",
   "metadata": {},
   "outputs": [
    {
     "data": {
      "text/html": [
       "<div>\n",
       "<style scoped>\n",
       "    .dataframe tbody tr th:only-of-type {\n",
       "        vertical-align: middle;\n",
       "    }\n",
       "\n",
       "    .dataframe tbody tr th {\n",
       "        vertical-align: top;\n",
       "    }\n",
       "\n",
       "    .dataframe thead th {\n",
       "        text-align: right;\n",
       "    }\n",
       "</style>\n",
       "<table border=\"1\" class=\"dataframe\">\n",
       "  <thead>\n",
       "    <tr style=\"text-align: right;\">\n",
       "      <th></th>\n",
       "      <th>area (sq. meters)</th>\n",
       "    </tr>\n",
       "  </thead>\n",
       "  <tbody>\n",
       "    <tr>\n",
       "      <th>47</th>\n",
       "      <td>147</td>\n",
       "    </tr>\n",
       "    <tr>\n",
       "      <th>4</th>\n",
       "      <td>104</td>\n",
       "    </tr>\n",
       "    <tr>\n",
       "      <th>38</th>\n",
       "      <td>138</td>\n",
       "    </tr>\n",
       "    <tr>\n",
       "      <th>18</th>\n",
       "      <td>118</td>\n",
       "    </tr>\n",
       "    <tr>\n",
       "      <th>46</th>\n",
       "      <td>146</td>\n",
       "    </tr>\n",
       "    <tr>\n",
       "      <th>43</th>\n",
       "      <td>143</td>\n",
       "    </tr>\n",
       "    <tr>\n",
       "      <th>29</th>\n",
       "      <td>129</td>\n",
       "    </tr>\n",
       "    <tr>\n",
       "      <th>12</th>\n",
       "      <td>112</td>\n",
       "    </tr>\n",
       "    <tr>\n",
       "      <th>17</th>\n",
       "      <td>117</td>\n",
       "    </tr>\n",
       "    <tr>\n",
       "      <th>8</th>\n",
       "      <td>108</td>\n",
       "    </tr>\n",
       "    <tr>\n",
       "      <th>1</th>\n",
       "      <td>101</td>\n",
       "    </tr>\n",
       "    <tr>\n",
       "      <th>23</th>\n",
       "      <td>123</td>\n",
       "    </tr>\n",
       "    <tr>\n",
       "      <th>27</th>\n",
       "      <td>127</td>\n",
       "    </tr>\n",
       "    <tr>\n",
       "      <th>48</th>\n",
       "      <td>148</td>\n",
       "    </tr>\n",
       "    <tr>\n",
       "      <th>50</th>\n",
       "      <td>150</td>\n",
       "    </tr>\n",
       "    <tr>\n",
       "      <th>37</th>\n",
       "      <td>137</td>\n",
       "    </tr>\n",
       "  </tbody>\n",
       "</table>\n",
       "</div>"
      ],
      "text/plain": [
       "    area (sq. meters)\n",
       "47                147\n",
       "4                 104\n",
       "38                138\n",
       "18                118\n",
       "46                146\n",
       "43                143\n",
       "29                129\n",
       "12                112\n",
       "17                117\n",
       "8                 108\n",
       "1                 101\n",
       "23                123\n",
       "27                127\n",
       "48                148\n",
       "50                150\n",
       "37                137"
      ]
     },
     "execution_count": 11,
     "metadata": {},
     "output_type": "execute_result"
    }
   ],
   "source": [
    "X_test"
   ]
  },
  {
   "cell_type": "code",
   "execution_count": 12,
   "id": "252122ce",
   "metadata": {},
   "outputs": [
    {
     "data": {
      "text/html": [
       "<div>\n",
       "<style scoped>\n",
       "    .dataframe tbody tr th:only-of-type {\n",
       "        vertical-align: middle;\n",
       "    }\n",
       "\n",
       "    .dataframe tbody tr th {\n",
       "        vertical-align: top;\n",
       "    }\n",
       "\n",
       "    .dataframe thead th {\n",
       "        text-align: right;\n",
       "    }\n",
       "</style>\n",
       "<table border=\"1\" class=\"dataframe\">\n",
       "  <thead>\n",
       "    <tr style=\"text-align: right;\">\n",
       "      <th></th>\n",
       "      <th>area (sq. meters)</th>\n",
       "    </tr>\n",
       "  </thead>\n",
       "  <tbody>\n",
       "    <tr>\n",
       "      <th>41</th>\n",
       "      <td>141</td>\n",
       "    </tr>\n",
       "    <tr>\n",
       "      <th>0</th>\n",
       "      <td>100</td>\n",
       "    </tr>\n",
       "    <tr>\n",
       "      <th>14</th>\n",
       "      <td>114</td>\n",
       "    </tr>\n",
       "    <tr>\n",
       "      <th>39</th>\n",
       "      <td>139</td>\n",
       "    </tr>\n",
       "    <tr>\n",
       "      <th>25</th>\n",
       "      <td>125</td>\n",
       "    </tr>\n",
       "    <tr>\n",
       "      <th>24</th>\n",
       "      <td>124</td>\n",
       "    </tr>\n",
       "    <tr>\n",
       "      <th>10</th>\n",
       "      <td>110</td>\n",
       "    </tr>\n",
       "    <tr>\n",
       "      <th>3</th>\n",
       "      <td>103</td>\n",
       "    </tr>\n",
       "    <tr>\n",
       "      <th>42</th>\n",
       "      <td>142</td>\n",
       "    </tr>\n",
       "    <tr>\n",
       "      <th>13</th>\n",
       "      <td>113</td>\n",
       "    </tr>\n",
       "    <tr>\n",
       "      <th>6</th>\n",
       "      <td>106</td>\n",
       "    </tr>\n",
       "    <tr>\n",
       "      <th>2</th>\n",
       "      <td>102</td>\n",
       "    </tr>\n",
       "    <tr>\n",
       "      <th>30</th>\n",
       "      <td>130</td>\n",
       "    </tr>\n",
       "    <tr>\n",
       "      <th>40</th>\n",
       "      <td>140</td>\n",
       "    </tr>\n",
       "    <tr>\n",
       "      <th>5</th>\n",
       "      <td>105</td>\n",
       "    </tr>\n",
       "    <tr>\n",
       "      <th>44</th>\n",
       "      <td>144</td>\n",
       "    </tr>\n",
       "    <tr>\n",
       "      <th>33</th>\n",
       "      <td>133</td>\n",
       "    </tr>\n",
       "    <tr>\n",
       "      <th>16</th>\n",
       "      <td>116</td>\n",
       "    </tr>\n",
       "    <tr>\n",
       "      <th>19</th>\n",
       "      <td>119</td>\n",
       "    </tr>\n",
       "    <tr>\n",
       "      <th>36</th>\n",
       "      <td>136</td>\n",
       "    </tr>\n",
       "    <tr>\n",
       "      <th>45</th>\n",
       "      <td>145</td>\n",
       "    </tr>\n",
       "    <tr>\n",
       "      <th>21</th>\n",
       "      <td>121</td>\n",
       "    </tr>\n",
       "    <tr>\n",
       "      <th>32</th>\n",
       "      <td>132</td>\n",
       "    </tr>\n",
       "    <tr>\n",
       "      <th>34</th>\n",
       "      <td>134</td>\n",
       "    </tr>\n",
       "    <tr>\n",
       "      <th>7</th>\n",
       "      <td>107</td>\n",
       "    </tr>\n",
       "    <tr>\n",
       "      <th>22</th>\n",
       "      <td>122</td>\n",
       "    </tr>\n",
       "    <tr>\n",
       "      <th>11</th>\n",
       "      <td>111</td>\n",
       "    </tr>\n",
       "    <tr>\n",
       "      <th>20</th>\n",
       "      <td>120</td>\n",
       "    </tr>\n",
       "    <tr>\n",
       "      <th>9</th>\n",
       "      <td>109</td>\n",
       "    </tr>\n",
       "    <tr>\n",
       "      <th>49</th>\n",
       "      <td>149</td>\n",
       "    </tr>\n",
       "    <tr>\n",
       "      <th>28</th>\n",
       "      <td>128</td>\n",
       "    </tr>\n",
       "    <tr>\n",
       "      <th>31</th>\n",
       "      <td>131</td>\n",
       "    </tr>\n",
       "    <tr>\n",
       "      <th>15</th>\n",
       "      <td>115</td>\n",
       "    </tr>\n",
       "    <tr>\n",
       "      <th>26</th>\n",
       "      <td>126</td>\n",
       "    </tr>\n",
       "    <tr>\n",
       "      <th>35</th>\n",
       "      <td>135</td>\n",
       "    </tr>\n",
       "  </tbody>\n",
       "</table>\n",
       "</div>"
      ],
      "text/plain": [
       "    area (sq. meters)\n",
       "41                141\n",
       "0                 100\n",
       "14                114\n",
       "39                139\n",
       "25                125\n",
       "24                124\n",
       "10                110\n",
       "3                 103\n",
       "42                142\n",
       "13                113\n",
       "6                 106\n",
       "2                 102\n",
       "30                130\n",
       "40                140\n",
       "5                 105\n",
       "44                144\n",
       "33                133\n",
       "16                116\n",
       "19                119\n",
       "36                136\n",
       "45                145\n",
       "21                121\n",
       "32                132\n",
       "34                134\n",
       "7                 107\n",
       "22                122\n",
       "11                111\n",
       "20                120\n",
       "9                 109\n",
       "49                149\n",
       "28                128\n",
       "31                131\n",
       "15                115\n",
       "26                126\n",
       "35                135"
      ]
     },
     "execution_count": 12,
     "metadata": {},
     "output_type": "execute_result"
    }
   ],
   "source": [
    "X_train"
   ]
  },
  {
   "cell_type": "code",
   "execution_count": 13,
   "id": "c02afbae",
   "metadata": {},
   "outputs": [
    {
     "data": {
      "text/plain": [
       "47    7350\n",
       "4     5200\n",
       "38    6900\n",
       "18    5900\n",
       "46    7300\n",
       "43    7150\n",
       "29    6450\n",
       "12    5600\n",
       "17    5850\n",
       "8     5400\n",
       "1     5050\n",
       "23    6150\n",
       "27    6350\n",
       "48    7400\n",
       "50    7500\n",
       "37    6850\n",
       "Name:  price (USD), dtype: int64"
      ]
     },
     "execution_count": 13,
     "metadata": {},
     "output_type": "execute_result"
    }
   ],
   "source": [
    "y_test"
   ]
  },
  {
   "cell_type": "code",
   "execution_count": 14,
   "id": "64a6504f",
   "metadata": {},
   "outputs": [
    {
     "data": {
      "text/plain": [
       "41    7050\n",
       "0     5000\n",
       "14    5700\n",
       "39    6950\n",
       "25    6250\n",
       "24    6200\n",
       "10    5500\n",
       "3     5150\n",
       "42    7100\n",
       "13    5650\n",
       "6     5300\n",
       "2     5100\n",
       "30    6500\n",
       "40    7000\n",
       "5     5250\n",
       "44    7200\n",
       "33    6650\n",
       "16    5800\n",
       "19    5950\n",
       "36    6800\n",
       "45    7250\n",
       "21    6050\n",
       "32    6600\n",
       "34    6700\n",
       "7     5350\n",
       "22    6100\n",
       "11    5550\n",
       "20    6000\n",
       "9     5450\n",
       "49    7450\n",
       "28    6400\n",
       "31    6550\n",
       "15    5750\n",
       "26    6300\n",
       "35    6750\n",
       "Name:  price (USD), dtype: int64"
      ]
     },
     "execution_count": 14,
     "metadata": {},
     "output_type": "execute_result"
    }
   ],
   "source": [
    "y_train"
   ]
  },
  {
   "cell_type": "code",
   "execution_count": 15,
   "id": "60ca615f",
   "metadata": {},
   "outputs": [
    {
     "data": {
      "text/plain": [
       "((16, 1), (35, 1), (16,), (35,))"
      ]
     },
     "execution_count": 15,
     "metadata": {},
     "output_type": "execute_result"
    }
   ],
   "source": [
    "#checking the shape of the test and train data\n",
    "X_test.shape, X_train.shape, y_test.shape, y_train.shape"
   ]
  },
  {
   "cell_type": "markdown",
   "id": "06a05d8f",
   "metadata": {},
   "source": [
    "## Using the Algorithm/Model to train"
   ]
  },
  {
   "cell_type": "code",
   "execution_count": 16,
   "id": "c474c7b6",
   "metadata": {},
   "outputs": [],
   "source": [
    "model = LinearRegression()\n",
    "# X value has to be 2 dimension while y has to be 1 dimension because y=mx+c"
   ]
  },
  {
   "cell_type": "code",
   "execution_count": 17,
   "id": "2c15b126",
   "metadata": {},
   "outputs": [
    {
     "data": {
      "text/plain": [
       "LinearRegression()"
      ]
     },
     "execution_count": 17,
     "metadata": {},
     "output_type": "execute_result"
    }
   ],
   "source": [
    "# fitting the data into the model\n",
    "model.fit(X_train, y_train)"
   ]
  },
  {
   "cell_type": "code",
   "execution_count": 18,
   "id": "024de9d4",
   "metadata": {},
   "outputs": [
    {
     "data": {
      "text/plain": [
       "array([50.])"
      ]
     },
     "execution_count": 18,
     "metadata": {},
     "output_type": "execute_result"
    }
   ],
   "source": [
    "# checking the coefficient\n",
    "model.coef_"
   ]
  },
  {
   "cell_type": "code",
   "execution_count": 19,
   "id": "57ec3fe0",
   "metadata": {},
   "outputs": [
    {
     "data": {
      "text/plain": [
       "-3.637978807091713e-12"
      ]
     },
     "execution_count": 19,
     "metadata": {},
     "output_type": "execute_result"
    }
   ],
   "source": [
    "# checking the intercept\n",
    "model.intercept_"
   ]
  },
  {
   "cell_type": "markdown",
   "id": "720c4fc3",
   "metadata": {},
   "source": [
    "## Predicting with the Trained Model"
   ]
  },
  {
   "cell_type": "code",
   "execution_count": 20,
   "id": "f78390c2",
   "metadata": {},
   "outputs": [
    {
     "data": {
      "text/plain": [
       "array([7350., 5200., 6900., 5900., 7300., 7150., 6450., 5600., 5850.,\n",
       "       5400., 5050., 6150., 6350., 7400., 7500., 6850.])"
      ]
     },
     "execution_count": 20,
     "metadata": {},
     "output_type": "execute_result"
    }
   ],
   "source": [
    "model.predict(X_test)"
   ]
  },
  {
   "cell_type": "markdown",
   "id": "b0de40c8",
   "metadata": {},
   "source": [
    "## Predicting actual area againt price"
   ]
  },
  {
   "cell_type": "code",
   "execution_count": 21,
   "id": "f05c97f3",
   "metadata": {},
   "outputs": [
    {
     "data": {
      "text/plain": [
       "array([75000.])"
      ]
     },
     "execution_count": 21,
     "metadata": {},
     "output_type": "execute_result"
    }
   ],
   "source": [
    "model.predict([[1500]])"
   ]
  },
  {
   "cell_type": "markdown",
   "id": "12b8cb65",
   "metadata": {},
   "source": [
    "## Checking the model accuracy"
   ]
  },
  {
   "cell_type": "code",
   "execution_count": 22,
   "id": "066162cb",
   "metadata": {},
   "outputs": [
    {
     "data": {
      "text/plain": [
       "1.0"
      ]
     },
     "execution_count": 22,
     "metadata": {},
     "output_type": "execute_result"
    }
   ],
   "source": [
    "# using score\n",
    "model.score(X_test, y_test)"
   ]
  },
  {
   "cell_type": "code",
   "execution_count": 23,
   "id": "95d68c6c",
   "metadata": {},
   "outputs": [],
   "source": [
    "# from the indication above, our model is 100% accurate.\n",
    "# this is a very perfect model because of the consistency in the data and the patterns it has"
   ]
  },
  {
   "cell_type": "markdown",
   "id": "46065eb9",
   "metadata": {},
   "source": [
    "## Saving the Linear Regression Model"
   ]
  },
  {
   "cell_type": "code",
   "execution_count": 24,
   "id": "7a844cad",
   "metadata": {},
   "outputs": [],
   "source": [
    "# Importing the libraries for saving the model\n",
    "import pickle as pck\n",
    "from joblib import dump, load"
   ]
  },
  {
   "cell_type": "code",
   "execution_count": 25,
   "id": "bea366fe",
   "metadata": {},
   "outputs": [],
   "source": [
    "# Using pickle to write to a binary file\n",
    "with open('pck model', 'wb') as md: #wb mean write binary\n",
    "    pck.dump(model, md) # dumping model into md\n",
    "    \n",
    "with open('pck model', 'rb') as md: # reading the binary file / Deserializing the file\n",
    "    dumped_md = pck.load(md)"
   ]
  },
  {
   "cell_type": "code",
   "execution_count": 26,
   "id": "dc9b6b8c",
   "metadata": {},
   "outputs": [
    {
     "data": {
      "text/plain": [
       "array([75000.])"
      ]
     },
     "execution_count": 26,
     "metadata": {},
     "output_type": "execute_result"
    }
   ],
   "source": [
    "# checking if the dumping process was succesful\n",
    "dumped_md.predict([[1500]])"
   ]
  },
  {
   "cell_type": "code",
   "execution_count": 27,
   "id": "2ce784f3",
   "metadata": {},
   "outputs": [
    {
     "data": {
      "text/plain": [
       "['joblib_prediction_save']"
      ]
     },
     "execution_count": 27,
     "metadata": {},
     "output_type": "execute_result"
    }
   ],
   "source": [
    "# from above, the pickle dump and load was successful, now lets save it using joblib\n",
    "dump(model,'joblib_prediction_save')"
   ]
  },
  {
   "cell_type": "code",
   "execution_count": 28,
   "id": "c6767162",
   "metadata": {},
   "outputs": [],
   "source": [
    "#loading the model from the file directly\n",
    "loader = load('joblib_prediction_save')"
   ]
  },
  {
   "cell_type": "code",
   "execution_count": 29,
   "id": "738d511e",
   "metadata": {},
   "outputs": [
    {
     "data": {
      "text/plain": [
       "array([75000.])"
      ]
     },
     "execution_count": 29,
     "metadata": {},
     "output_type": "execute_result"
    }
   ],
   "source": [
    "loader.predict([[1500]])"
   ]
  },
  {
   "cell_type": "code",
   "execution_count": 30,
   "id": "fa978256",
   "metadata": {},
   "outputs": [],
   "source": [
    "# From the above cell, the model was saved and loaded successfully\n",
    "# This means we can always use this model anywhere so long as we have the file and we import 'load' from 'joblib'"
   ]
  },
  {
   "cell_type": "code",
   "execution_count": null,
   "id": "99eacd59",
   "metadata": {},
   "outputs": [],
   "source": []
  },
  {
   "cell_type": "markdown",
   "id": "f936ef67",
   "metadata": {},
   "source": [
    "## Using User Input to make Predictions"
   ]
  },
  {
   "cell_type": "code",
   "execution_count": 31,
   "id": "d5796aa9",
   "metadata": {},
   "outputs": [
    {
     "name": "stdout",
     "output_type": "stream",
     "text": [
      "Enter Land Area to get the Price in USD: 4500\n",
      "[[array(4500.)]]\n"
     ]
    }
   ],
   "source": [
    "inp = input('Enter Land Area to get the Price in USD: ')\n",
    "\n",
    "#converting inp into a 1d array\n",
    "arr = np.array(inp)\n",
    "\n",
    "farray = arr.astype(float)  # Converting the array into a float array\n",
    "farray2d = ([[farray]]) # Converting farray to 2d array\n",
    "\n",
    "print(farray2d)"
   ]
  },
  {
   "cell_type": "code",
   "execution_count": 32,
   "id": "c7d4b195",
   "metadata": {},
   "outputs": [
    {
     "name": "stdout",
     "output_type": "stream",
     "text": [
      "Enter Land Area (in digits) to get the Price in USD: 6000\n",
      "Price for 6000 area of land in the USA is $300000.0000000002\n"
     ]
    },
    {
     "name": "stderr",
     "output_type": "stream",
     "text": [
      "<ipython-input-32-e11ee73ecd02>:15: DeprecationWarning: np.asscalar(a) is deprecated since NumPy v1.16, use a.item() instead\n",
      "  price = np.asscalar(np.array(prediction))\n"
     ]
    }
   ],
   "source": [
    "inp = input('Enter Land Area (in digits) to get the Price in USD: ')\n",
    "\n",
    "#converting inp into a 1d array\n",
    "arr = np.array(inp)\n",
    "\n",
    "farray = arr.astype(float)  # Converting the array into a float array\n",
    "farray2d = ([[farray]]) # Converting farray to 2d array\n",
    "\n",
    "#print(farray2d)\n",
    "\n",
    "prediction = loader.predict(farray2d) # because the 'loader' is currently holding the model through the file\n",
    "#print(prediction)\n",
    "\n",
    "# Converting the vector into scalar\n",
    "price = np.asscalar(np.array(prediction))\n",
    "\n",
    "print(f'Price for {inp} area of land in the USA is ${price}')"
   ]
  },
  {
   "cell_type": "markdown",
   "id": "59dbc7d0",
   "metadata": {},
   "source": [
    "### To Avoid having the above error lets use another method to convert to scalar"
   ]
  },
  {
   "cell_type": "code",
   "execution_count": 33,
   "id": "767d6642",
   "metadata": {},
   "outputs": [
    {
     "name": "stdout",
     "output_type": "stream",
     "text": [
      "Enter Land Area (in digits) to get the Price in USD: 7500\n",
      "Price for 7500 area of land in the USA is $375000.00000000023\n"
     ]
    }
   ],
   "source": [
    "inp = input('Enter Land Area (in digits) to get the Price in USD: ')\n",
    "\n",
    "#converting inp into a 1d array\n",
    "arr = np.array(inp)\n",
    "\n",
    "farray = arr.astype(float)  # Converting the array into a float array\n",
    "farray2d = ([[farray]]) # Converting farray to 2d array\n",
    "\n",
    "#print(farray2d)\n",
    "\n",
    "prediction = loader.predict(farray2d) # because the 'loader' is currently holding the model through the file\n",
    "#print(prediction)\n",
    "\n",
    "# Converting the vector into scaler\n",
    "Price = np.array(prediction)\n",
    "Price = Price.item()\n",
    "\n",
    "print(f'Price for {inp} area of land in the USA is ${Price}')"
   ]
  },
  {
   "cell_type": "markdown",
   "id": "d969b593",
   "metadata": {},
   "source": [
    "# Congratulations, we have succesfully trained our model"
   ]
  }
 ],
 "metadata": {
  "kernelspec": {
   "display_name": "Python 3",
   "language": "python",
   "name": "python3"
  },
  "language_info": {
   "codemirror_mode": {
    "name": "ipython",
    "version": 3
   },
   "file_extension": ".py",
   "mimetype": "text/x-python",
   "name": "python",
   "nbconvert_exporter": "python",
   "pygments_lexer": "ipython3",
   "version": "3.8.8"
  }
 },
 "nbformat": 4,
 "nbformat_minor": 5
}
